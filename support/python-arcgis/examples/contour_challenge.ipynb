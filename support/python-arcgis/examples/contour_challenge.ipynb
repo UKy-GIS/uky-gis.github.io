{
 "cells": [
  {
   "cell_type": "markdown",
   "metadata": {},
   "source": [
    "# Contour evaluation program\n",
    "The new [KyTopo Map](http://kygeonet.ky.gov/) uses lidar data to create statewide topographic maps. The 40-ft contour interval series is indexed every fifth contour. Determine if any value is an index contour or contour in Kentucky."
   ]
  },
  {
   "cell_type": "code",
   "execution_count": 2,
   "metadata": {},
   "outputs": [
    {
     "name": "stdout",
     "output_type": "stream",
     "text": [
      "Enter elevation contour value: 600\n",
      "OK! Got good numbers. Lets go!\n",
      "Your value of 600 is an index contour!\n",
      "All done!\n"
     ]
    }
   ],
   "source": [
    "# Get a contour value\n",
    "contour = input(\"Enter elevation contour value: \")\n",
    "\n",
    "# Catching syntax errors\n",
    "# Try converting the string to the number\n",
    "try: \n",
    "    # convert string type to int\n",
    "    contourNumber = int(contour)\n",
    "    # if successful, the below step is skipped\n",
    "    # if unsuccessful the below statement is executed and the program stops\n",
    "except: # except clause\n",
    "    print(\"Not a number! Run program again.\")\n",
    "    exit() # exit function to prevent continuing\n",
    "\n",
    "# Catching logic errors\n",
    "# Check to see if contour value is valid for Kentucky\n",
    "if contourNumber > 4139 or contourNumber < 257:\n",
    "    print(\"Elevation outside range! Run program again.\")\n",
    "    exit()\n",
    "else:\n",
    "    print(\"OK! Got good numbers. Lets go!\")\n",
    "\n",
    "# Check to see if it's a contour and if it's an index contour\n",
    "if contourNumber%40 == 0: \n",
    "    if contourNumber%200 == 0:\n",
    "        print(\"Your value of \" + str(contourNumber) + \" is an index contour!\")\n",
    "    else:\n",
    "        print(\"You have a contour!\")\n",
    "else:\n",
    "    print(\"Sorry. Not an index contour.\")\n",
    "\n",
    "# Tell them we are done!\n",
    "print(\"All done!\")"
   ]
  },
  {
   "cell_type": "markdown",
   "metadata": {},
   "source": [
    "![20-foot contour series](http://annessky.net/blog/wp-content/uploads/2017/11/Interval_20.png)"
   ]
  },
  {
   "cell_type": "code",
   "execution_count": null,
   "metadata": {},
   "outputs": [],
   "source": []
  },
  {
   "cell_type": "code",
   "execution_count": null,
   "metadata": {},
   "outputs": [],
   "source": []
  },
  {
   "cell_type": "code",
   "execution_count": null,
   "metadata": {},
   "outputs": [],
   "source": []
  }
 ],
 "metadata": {
  "kernelspec": {
   "display_name": "Python [conda env:geoenv]",
   "language": "python",
   "name": "conda-env-geoenv-py"
  },
  "language_info": {
   "codemirror_mode": {
    "name": "ipython",
    "version": 3
   },
   "file_extension": ".py",
   "mimetype": "text/x-python",
   "name": "python",
   "nbconvert_exporter": "python",
   "pygments_lexer": "ipython3",
   "version": "3.7.0"
  }
 },
 "nbformat": 4,
 "nbformat_minor": 2
}
