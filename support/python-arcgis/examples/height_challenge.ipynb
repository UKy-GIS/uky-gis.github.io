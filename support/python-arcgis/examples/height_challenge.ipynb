{
 "cells": [
  {
   "cell_type": "markdown",
   "metadata": {},
   "source": [
    "# How tall are you compared to Patterson Office Tower?\n",
    "\n",
    "Capture some input, convert between string and float types, and then concatenate a string to display to the user."
   ]
  },
  {
   "cell_type": "code",
   "execution_count": 6,
   "metadata": {},
   "outputs": [
    {
     "name": "stdout",
     "output_type": "stream",
     "text": [
      "height (in feet): 5\n",
      "height (in inches): 6\n",
      "You are 5.5 feet in base 10\n",
      "Your are 8.461538461538462% the height of POT!\n"
     ]
    }
   ],
   "source": [
    "# get input for height\n",
    "yourHeightFeet = input(\"height (in feet): \")\n",
    "yourHeightInches = input(\"height (in inches): \")\n",
    "\n",
    "# get input for height in inches\n",
    "potHeight = 65\n",
    "yourHeight = float(yourHeightFeet) + (float(yourHeightInches)/12)\n",
    "print(\"You are \" + str(yourHeight) + \" feet in base 10\")\n",
    " \n",
    "percentDifference = str(yourHeight/potHeight*100) + \"%\"\n",
    "print(\"Your are \" + percentDifference + \" the height of POT!\")"
   ]
  },
  {
   "cell_type": "markdown",
   "metadata": {},
   "source": [
    "![Campus view of POT](https://farm8.staticflickr.com/7330/26735803704_1b2f65bb9e_h.jpg)"
   ]
  },
  {
   "cell_type": "code",
   "execution_count": null,
   "metadata": {},
   "outputs": [],
   "source": []
  }
 ],
 "metadata": {
  "kernelspec": {
   "display_name": "Python [default]",
   "language": "python",
   "name": "python3"
  },
  "language_info": {
   "codemirror_mode": {
    "name": "ipython",
    "version": 3
   },
   "file_extension": ".py",
   "mimetype": "text/x-python",
   "name": "python",
   "nbconvert_exporter": "python",
   "pygments_lexer": "ipython3",
   "version": "3.7.0"
  }
 },
 "nbformat": 4,
 "nbformat_minor": 2
}
