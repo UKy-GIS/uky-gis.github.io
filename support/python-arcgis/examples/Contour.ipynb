{
 "cells": [
  {
   "cell_type": "markdown",
   "metadata": {},
   "source": [
    "# Contouring a DEM\n",
    "Tools used: \n",
    "1. [focal statistic](http://desktop.arcgis.com/en/arcmap/10.3/tools/spatial-analyst-toolbox/focal-statistics.htm)\n",
    "2. [contour](https://pro.arcgis.com/en/pro-app/tool-reference/3d-analyst/contour.htm)\n",
    "3. [add field](https://pro.arcgis.com/en/pro-app/tool-reference/data-management/add-field.htm)\n",
    "4. [calculate field](https://pro.arcgis.com/en/pro-app/tool-reference/data-management/calculate-field.htm)"
   ]
  },
  {
   "cell_type": "markdown",
   "metadata": {},
   "source": [
    "[Download as zip file](Contour.ipynb.zip)"
   ]
  },
  {
   "cell_type": "code",
   "execution_count": 1,
   "metadata": {},
   "outputs": [],
   "source": [
    "import arcpy"
   ]
  },
  {
   "cell_type": "code",
   "execution_count": 14,
   "metadata": {},
   "outputs": [
    {
     "name": "stdout",
     "output_type": "stream",
     "text": [
      "cumberlandfalls_dem_5ft\n",
      "cumberlandfalls_hillshade\n",
      "N090E156\n",
      "cumberlandfalls_naip\n",
      "focal_stats_30ft\n",
      "cliffs_over_30ft\n"
     ]
    }
   ],
   "source": [
    "# Project name - creates a folder in project directory\n",
    "project = 'cumberlandfalls'\n",
    "\n",
    "# Directory for project \n",
    "out_directory = f'z:\\\\BoydsGIS\\\\L7\\\\'\n",
    "\n",
    "# Output geodatabase name\n",
    "arcpy.env.workspace = f'{out_directory}\\\\{project}\\\\workspace.gdb'\n",
    "\n",
    "# Give list rasters\n",
    "rasters = arcpy.ListRasters()\n",
    "\n",
    "for r in rasters:\n",
    "    print(f\"{r}\")"
   ]
  },
  {
   "cell_type": "code",
   "execution_count": 15,
   "metadata": {},
   "outputs": [],
   "source": [
    "# Create neighborhood object\n",
    "neighborhood = arcpy.sa.NbrCircle(3,'CELL')"
   ]
  },
  {
   "cell_type": "code",
   "execution_count": 16,
   "metadata": {},
   "outputs": [],
   "source": [
    "# Smooth DEM\n",
    "outFocalStat = arcpy.sa.FocalStatistics(f'{project}_dem_5ft', neighborhood, \"mean\")\n",
    "outFocalStat.save(\"dem_smooth_3c\")"
   ]
  },
  {
   "cell_type": "code",
   "execution_count": 17,
   "metadata": {},
   "outputs": [],
   "source": [
    "# Contour\n",
    "arcpy.Contour_3d (i\"dem_smooth_3c\", \"contour-20ft\", 20)"
   ]
  },
  {
   "cell_type": "code",
   "execution_count": null,
   "metadata": {},
   "outputs": [],
   "source": [
    "# Add field\n",
    "arcpy.AddField_management (\"contour-20ft\", \"index_contour\", \"short\")"
   ]
  },
  {
   "cell_type": "code",
   "execution_count": null,
   "metadata": {},
   "outputs": [],
   "source": [
    "# Calcualte Field\n",
    "# Do this in ArcGIS Pro first!"
   ]
  }
 ],
 "metadata": {
  "kernelspec": {
   "display_name": "Python 3",
   "language": "python",
   "name": "python3"
  },
  "language_info": {
   "codemirror_mode": {
    "name": "ipython",
    "version": 3
   },
   "file_extension": ".py",
   "mimetype": "text/x-python",
   "name": "python",
   "nbconvert_exporter": "python",
   "pygments_lexer": "ipython3",
   "version": "3.6.5"
  }
 },
 "nbformat": 4,
 "nbformat_minor": 2
}
