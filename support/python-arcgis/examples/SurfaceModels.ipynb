{
 "cells": [
  {
   "cell_type": "markdown",
   "metadata": {},
   "source": [
    "# Creating surface models from DEM\n",
    "\n",
    "Use bare-earth DEM to model cliff heights using [focal statistics](https://pro.arcgis.com/en/pro-app/tool-reference/spatial-analyst/how-focal-statistics-works.htm) and raster calculator."
   ]
  },
  {
   "cell_type": "markdown",
   "metadata": {},
   "source": [
    "![Example of computing a focal stat](focal-stats.png)"
   ]
  },
  {
   "cell_type": "code",
   "execution_count": 1,
   "metadata": {},
   "outputs": [],
   "source": [
    "import arcpy"
   ]
  },
  {
   "cell_type": "code",
   "execution_count": 14,
   "metadata": {},
   "outputs": [
    {
     "name": "stdout",
     "output_type": "stream",
     "text": [
      "cumberlandfalls_dem_5ft\n",
      "cumberlandfalls_hillshade\n",
      "N090E156\n",
      "cumberlandfalls_naip\n",
      "focal_stats_30ft\n",
      "cliffs_over_30ft\n"
     ]
    }
   ],
   "source": [
    "# Project name - creates a folder in project directory\n",
    "project = 'cumberlandfalls'\n",
    "\n",
    "# Directory for project \n",
    "out_directory = f'z:\\\\BoydsGIS\\\\L7\\\\'\n",
    "\n",
    "# Output geodatabase name\n",
    "arcpy.env.workspace = f'{out_directory}\\\\{project}\\\\workspace.gdb'\n",
    "\n",
    "# Give list rasters\n",
    "rasters = arcpy.ListRasters()\n",
    "\n",
    "for r in rasters:\n",
    "    print(f\"{r}\")"
   ]
  },
  {
   "cell_type": "code",
   "execution_count": 15,
   "metadata": {},
   "outputs": [],
   "source": [
    "# Create neighborhood object\n",
    "neighborhood = arcpy.sa.NbrCircle(3,'CELL')"
   ]
  },
  {
   "cell_type": "code",
   "execution_count": 16,
   "metadata": {},
   "outputs": [],
   "source": [
    "# Find elevation range within 15 feet (3 cells) of each cell\n",
    "outFocalStat = arcpy.sa.FocalStatistics(f'{project}_dem_5ft', neighborhood, \"RANGE\")\n",
    "outFocalStat.save(\"focal_stats_30ft_2\")"
   ]
  },
  {
   "cell_type": "code",
   "execution_count": 17,
   "metadata": {},
   "outputs": [],
   "source": [
    "# Create cliffs over 30 feet in 30-ft diameter neighborhood from bare-earth DEM\n",
    "cliffs_over_30ft = arcpy.sa.Con(outFocalStat > 30, outFocalStat)\n",
    "cliffs_over_30ft.save(\"cliffs_over_30ft_2\")"
   ]
  },
  {
   "cell_type": "code",
   "execution_count": null,
   "metadata": {},
   "outputs": [],
   "source": []
  }
 ],
 "metadata": {
  "kernelspec": {
   "display_name": "Python 3",
   "language": "python",
   "name": "python3"
  },
  "language_info": {
   "codemirror_mode": {
    "name": "ipython",
    "version": 3
   },
   "file_extension": ".py",
   "mimetype": "text/x-python",
   "name": "python",
   "nbconvert_exporter": "python",
   "pygments_lexer": "ipython3",
   "version": "3.6.5"
  }
 },
 "nbformat": 4,
 "nbformat_minor": 2
}
