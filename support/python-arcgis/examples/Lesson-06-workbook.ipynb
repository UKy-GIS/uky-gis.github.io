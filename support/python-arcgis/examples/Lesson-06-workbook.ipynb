{
 "cells": [
  {
   "cell_type": "markdown",
   "metadata": {},
   "source": [
    "# Lesson 06 workbook"
   ]
  },
  {
   "cell_type": "code",
   "execution_count": null,
   "metadata": {},
   "outputs": [],
   "source": [
    "import csv"
   ]
  },
  {
   "cell_type": "code",
   "execution_count": null,
   "metadata": {},
   "outputs": [],
   "source": [
    "name_list = []\n",
    "count = 0\n",
    "sumElev = 0\n",
    "with open(\"Z:/BoydsGIS/data/KY_Features_20181001.txt\", encoding='utf-8') as csvfile:\n",
    "    reader = csv.reader(csvfile, delimiter=\"|\")\n",
    "    for row in reader:\n",
    "        if \"ARCH\" in row[2].upper():\n",
    "            print(row[1])\n",
    "            name_list.append(row[1])\n",
    "            sumElev += float(row[-4])\n",
    "            count += 1\n",
    "name_list.sort()\n",
    "print(f\"Average elevation is {sumElev/count} ft above sea level.\")\n"
   ]
  },
  {
   "cell_type": "code",
   "execution_count": null,
   "metadata": {},
   "outputs": [],
   "source": [
    "print(name_list)"
   ]
  },
  {
   "cell_type": "code",
   "execution_count": null,
   "metadata": {},
   "outputs": [],
   "source": [
    "name_list = []\n",
    "count = 0\n",
    "sumElev = 0\n",
    "with open(\"Z:/BoydsGIS/data/KY_Features_20181001.txt\", encoding='utf-8') as csvfile:\n",
    "    reader = csv.reader(csvfile, delimiter=\"|\")\n",
    "    for row in reader:\n",
    "        if \"ARCH\" in row[2].upper():\n",
    "            print(row[1])\n",
    "            name_list.append((row[1], int(row[-4])))\n",
    "            sumElev += float(row[-4])\n",
    "            count += 1\n",
    "name_list.sort()\n",
    "print(f\"Average elevation is {sumElev/count} ft\")"
   ]
  },
  {
   "cell_type": "code",
   "execution_count": null,
   "metadata": {},
   "outputs": [],
   "source": [
    "print(name_list)"
   ]
  },
  {
   "cell_type": "code",
   "execution_count": null,
   "metadata": {},
   "outputs": [],
   "source": [
    "name_list[0][1] = 453"
   ]
  },
  {
   "cell_type": "code",
   "execution_count": null,
   "metadata": {},
   "outputs": [],
   "source": [
    "print(name_list)"
   ]
  },
  {
   "cell_type": "code",
   "execution_count": null,
   "metadata": {},
   "outputs": [],
   "source": [
    "new_list = []\n",
    "for (x,y) in name_list:\n",
    "    print(y,x)\n",
    "    new_list.append((y,x))\n",
    "print(new_list)"
   ]
  },
  {
   "cell_type": "code",
   "execution_count": null,
   "metadata": {},
   "outputs": [],
   "source": []
  }
 ],
 "metadata": {
  "kernelspec": {
   "display_name": "Python 3",
   "language": "python",
   "name": "python3"
  },
  "language_info": {
   "codemirror_mode": {
    "name": "ipython",
    "version": 3
   },
   "file_extension": ".py",
   "mimetype": "text/x-python",
   "name": "python",
   "nbconvert_exporter": "python",
   "pygments_lexer": "ipython3",
   "version": "3.6.5"
  }
 },
 "nbformat": 4,
 "nbformat_minor": 2
}
